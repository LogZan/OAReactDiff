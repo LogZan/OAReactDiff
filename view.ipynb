{
 "cells": [
  {
   "cell_type": "code",
   "execution_count": 1,
   "metadata": {},
   "outputs": [
    {
     "name": "stderr",
     "output_type": "stream",
     "text": [
      "/home/datahouse1/zengchuanlong/miniforge3/envs/oa_reactdiff/lib/python3.10/site-packages/tqdm/auto.py:21: TqdmWarning: IProgress not found. Please update jupyter and ipywidgets. See https://ipywidgets.readthedocs.io/en/stable/user_install.html\n",
      "  from .autonotebook import tqdm as notebook_tqdm\n"
     ]
    }
   ],
   "source": [
    "# --- Importing and defining some functions ----\n",
    "import torch\n",
    "import py3Dmol\n",
    "import numpy as np\n",
    "\n",
    "from typing import Optional\n",
    "from torch import tensor\n",
    "from e3nn import o3\n",
    "from torch_scatter import scatter_mean\n",
    "\n",
    "from oa_reactdiff.model import LEFTNet\n",
    "\n",
    "default_float = torch.float64\n",
    "torch.set_default_dtype(default_float)  # Use double precision for more accurate testing\n",
    "\n",
    "\n",
    "def remove_mean_batch(\n",
    "    x: tensor, \n",
    "    indices: Optional[tensor] = None\n",
    ") -> tensor:\n",
    "    \"\"\"Remove the mean from each batch in x\n",
    "\n",
    "    Args:\n",
    "        x (tensor): input tensor.\n",
    "        indices (Optional[tensor], optional): batch indices. Defaults to None.\n",
    "\n",
    "    Returns:\n",
    "        tensor: output tensor with batch mean as 0.\n",
    "    \"\"\"\n",
    "    if indices == None:\n",
    "         return x - torch.mean(x, dim=0)\n",
    "    mean = scatter_mean(x, indices, dim=0)\n",
    "    x = x - mean[indices]\n",
    "    return x\n",
    "\n",
    "\n",
    "def draw_in_3dmol(mol: str, fmt: str = \"xyz\") -> py3Dmol.view:\n",
    "    \"\"\"Draw the molecule\n",
    "\n",
    "    Args:\n",
    "        mol (str): str content of molecule.\n",
    "        fmt (str, optional): format. Defaults to \"xyz\".\n",
    "\n",
    "    Returns:\n",
    "        py3Dmol.view: output viewer\n",
    "    \"\"\"\n",
    "    viewer = py3Dmol.view(1024, 576)\n",
    "    viewer.addModel(mol, fmt)\n",
    "    viewer.setStyle({'stick': {}, \"sphere\": {\"radius\": 0.36}})\n",
    "    viewer.zoomTo()\n",
    "    return viewer\n",
    "\n",
    "\n",
    "def assemble_xyz(z: list, pos: tensor) -> str:\n",
    "    \"\"\"Assembling atomic numbers and positions into xyz format\n",
    "\n",
    "    Args:\n",
    "        z (list): chemical elements\n",
    "        pos (tensor): 3D coordinates\n",
    "\n",
    "    Returns:\n",
    "        str: xyz string\n",
    "    \"\"\"\n",
    "    natoms =len(z)\n",
    "    xyz = f\"{natoms}\\n\\n\"\n",
    "    for _z, _pos in zip(z, pos.numpy()):\n",
    "        xyz += f\"{_z}\\t\" + \"\\t\".join([str(x) for x in _pos]) + \"\\n\"\n",
    "    return xyz"
   ]
  },
  {
   "cell_type": "code",
   "execution_count": null,
   "metadata": {},
   "outputs": [
    {
     "data": {
      "application/3dmoljs_load.v0": "<div id=\"3dmolviewer_17467779164051924\"  style=\"position: relative; width: 576px; height: 480px;\">\n        <p id=\"3dmolwarning_17467779164051924\" style=\"background-color:#ffcccc;color:black\">3Dmol.js failed to load for some reason.  Please check your browser console for error messages.<br></p>\n        </div>\n<script>\n\nvar loadScriptAsync = function(uri){\n  return new Promise((resolve, reject) => {\n    //this is to ignore the existence of requirejs amd\n    var savedexports, savedmodule;\n    if (typeof exports !== 'undefined') savedexports = exports;\n    else exports = {}\n    if (typeof module !== 'undefined') savedmodule = module;\n    else module = {}\n\n    var tag = document.createElement('script');\n    tag.src = uri;\n    tag.async = true;\n    tag.onload = () => {\n        exports = savedexports;\n        module = savedmodule;\n        resolve();\n    };\n  var firstScriptTag = document.getElementsByTagName('script')[0];\n  firstScriptTag.parentNode.insertBefore(tag, firstScriptTag);\n});\n};\n\nif(typeof $3Dmolpromise === 'undefined') {\n$3Dmolpromise = null;\n  $3Dmolpromise = loadScriptAsync('https://cdnjs.cloudflare.com/ajax/libs/3Dmol/2.4.0/3Dmol-min.js');\n}\n\nvar viewer_17467779164051924 = null;\nvar warn = document.getElementById(\"3dmolwarning_17467779164051924\");\nif(warn) {\n    warn.parentNode.removeChild(warn);\n}\n$3Dmolpromise.then(function() {\nviewer_17467779164051924 = $3Dmol.createViewer(document.getElementById(\"3dmolviewer_17467779164051924\"),{backgroundColor:\"white\"});\n$3Dmol.download(\"1024\", viewer_17467779164051924, {}, function() {\nviewer_17467779164051924.zoomTo();\n\tviewer_17467779164051924.addModel(\"14\\n\\nO 2.5335193 -0.92078424 -0.07589847\\nC -0.23703176 0.32896024 -1.4226948\\nC 1.8127009 -0.011176104 0.23014595\\nC 0.026680378 -0.12615512 -0.12629789\\nN -0.2424444 -1.4789515 -0.1559938\\nC -0.6486091 0.5818711 1.0480251\\nO -2.0320563 0.35582408 0.9228256\\nH 0.36305392 -1.8895756 -0.8776933\\nH -0.24615447 0.16840866 1.9773375\\nH 0.35588357 -0.07264123 -2.2405472\\nH -2.1010814 -0.6014011 0.8306338\\nH -1.0702031 0.9953576 -1.6728861\\nH 1.9858843 1.0046096 0.53811514\\nH -0.50014186 1.6656537 1.0249288\\n\",\"xyz\");\n\tviewer_17467779164051924.setStyle({\"stick\": {}, \"sphere\": {\"radius\": 0.36}});\n\tviewer_17467779164051924.zoomTo();\nviewer_17467779164051924.render();\n})\n});\n</script>",
      "text/html": [
       "<div id=\"3dmolviewer_17467779164051924\"  style=\"position: relative; width: 576px; height: 480px;\">\n",
       "        <p id=\"3dmolwarning_17467779164051924\" style=\"background-color:#ffcccc;color:black\">3Dmol.js failed to load for some reason.  Please check your browser console for error messages.<br></p>\n",
       "        </div>\n",
       "<script>\n",
       "\n",
       "var loadScriptAsync = function(uri){\n",
       "  return new Promise((resolve, reject) => {\n",
       "    //this is to ignore the existence of requirejs amd\n",
       "    var savedexports, savedmodule;\n",
       "    if (typeof exports !== 'undefined') savedexports = exports;\n",
       "    else exports = {}\n",
       "    if (typeof module !== 'undefined') savedmodule = module;\n",
       "    else module = {}\n",
       "\n",
       "    var tag = document.createElement('script');\n",
       "    tag.src = uri;\n",
       "    tag.async = true;\n",
       "    tag.onload = () => {\n",
       "        exports = savedexports;\n",
       "        module = savedmodule;\n",
       "        resolve();\n",
       "    };\n",
       "  var firstScriptTag = document.getElementsByTagName('script')[0];\n",
       "  firstScriptTag.parentNode.insertBefore(tag, firstScriptTag);\n",
       "});\n",
       "};\n",
       "\n",
       "if(typeof $3Dmolpromise === 'undefined') {\n",
       "$3Dmolpromise = null;\n",
       "  $3Dmolpromise = loadScriptAsync('https://cdnjs.cloudflare.com/ajax/libs/3Dmol/2.4.0/3Dmol-min.js');\n",
       "}\n",
       "\n",
       "var viewer_17467779164051924 = null;\n",
       "var warn = document.getElementById(\"3dmolwarning_17467779164051924\");\n",
       "if(warn) {\n",
       "    warn.parentNode.removeChild(warn);\n",
       "}\n",
       "$3Dmolpromise.then(function() {\n",
       "viewer_17467779164051924 = $3Dmol.createViewer(document.getElementById(\"3dmolviewer_17467779164051924\"),{backgroundColor:\"white\"});\n",
       "$3Dmol.download(\"1024\", viewer_17467779164051924, {}, function() {\n",
       "viewer_17467779164051924.zoomTo();\n",
       "\tviewer_17467779164051924.addModel(\"14\\n\\nO 2.5335193 -0.92078424 -0.07589847\\nC -0.23703176 0.32896024 -1.4226948\\nC 1.8127009 -0.011176104 0.23014595\\nC 0.026680378 -0.12615512 -0.12629789\\nN -0.2424444 -1.4789515 -0.1559938\\nC -0.6486091 0.5818711 1.0480251\\nO -2.0320563 0.35582408 0.9228256\\nH 0.36305392 -1.8895756 -0.8776933\\nH -0.24615447 0.16840866 1.9773375\\nH 0.35588357 -0.07264123 -2.2405472\\nH -2.1010814 -0.6014011 0.8306338\\nH -1.0702031 0.9953576 -1.6728861\\nH 1.9858843 1.0046096 0.53811514\\nH -0.50014186 1.6656537 1.0249288\\n\",\"xyz\");\n",
       "\tviewer_17467779164051924.setStyle({\"stick\": {}, \"sphere\": {\"radius\": 0.36}});\n",
       "\tviewer_17467779164051924.zoomTo();\n",
       "viewer_17467779164051924.render();\n",
       "})\n",
       "});\n",
       "</script>"
      ]
     },
     "metadata": {},
     "output_type": "display_data"
    },
    {
     "data": {
      "text/plain": [
       "<py3Dmol.view at 0x7f4eb43be7d0>"
      ]
     },
     "execution_count": 7,
     "metadata": {},
     "output_type": "execute_result"
    }
   ],
   "source": [
    "# Read the content of the .xyz file\n",
    "file_path = \"demo/example-3/generated/gen_0_ts.xyz\"\n",
    "with open(file_path, 'r') as f:\n",
    "    xyz = f.read()\n",
    "\n",
    "view = draw_in_3dmol(xyz, \"xyz\")\n",
    "view  # Display Molecules"
   ]
  },
  {
   "cell_type": "code",
   "execution_count": 5,
   "metadata": {},
   "outputs": [
    {
     "data": {
      "application/3dmoljs_load.v0": "<div id=\"3dmolviewer_1746777837457296\"  style=\"position: relative; width: 576px; height: 480px;\">\n        <p id=\"3dmolwarning_1746777837457296\" style=\"background-color:#ffcccc;color:black\">3Dmol.js failed to load for some reason.  Please check your browser console for error messages.<br></p>\n        </div>\n<script>\n\nvar loadScriptAsync = function(uri){\n  return new Promise((resolve, reject) => {\n    //this is to ignore the existence of requirejs amd\n    var savedexports, savedmodule;\n    if (typeof exports !== 'undefined') savedexports = exports;\n    else exports = {}\n    if (typeof module !== 'undefined') savedmodule = module;\n    else module = {}\n\n    var tag = document.createElement('script');\n    tag.src = uri;\n    tag.async = true;\n    tag.onload = () => {\n        exports = savedexports;\n        module = savedmodule;\n        resolve();\n    };\n  var firstScriptTag = document.getElementsByTagName('script')[0];\n  firstScriptTag.parentNode.insertBefore(tag, firstScriptTag);\n});\n};\n\nif(typeof $3Dmolpromise === 'undefined') {\n$3Dmolpromise = null;\n  $3Dmolpromise = loadScriptAsync('https://cdnjs.cloudflare.com/ajax/libs/3Dmol/2.4.0/3Dmol-min.js');\n}\n\nvar viewer_1746777837457296 = null;\nvar warn = document.getElementById(\"3dmolwarning_1746777837457296\");\nif(warn) {\n    warn.parentNode.removeChild(warn);\n}\n$3Dmolpromise.then(function() {\nviewer_1746777837457296 = $3Dmol.createViewer(document.getElementById(\"3dmolviewer_1746777837457296\"),{backgroundColor:\"white\"});\n$3Dmol.download(\"1024\", viewer_1746777837457296, {}, function() {\nviewer_1746777837457296.zoomTo();\n\tviewer_1746777837457296.addModel(\"14\\n\\nO 2.21498 -0.13552205 0.17981718\\nC 1.1761024 0.06764175 -0.7415772\\nC -0.17720129 -0.1251232 -0.06562364\\nC -0.46579868 -1.3743482 0.45726508\\nN -0.25835493 0.7530547 1.0944347\\nC -1.3341054 0.84239995 -0.84574354\\nO -2.4021823 0.6871197 -1.3024552\\nH 1.9411134 0.34722266 0.9783273\\nH 1.2066867 1.0815958 -1.170764\\nH 1.3023409 -0.65283334 -1.5560151\\nH 0.16792169 -2.241956 0.28234816\\nH -1.36076 -1.527262 1.0542859\\nH -1.1368358 0.59730196 1.5973896\\nH -0.87390614 1.6807085 0.03831083\\n\",\"xyz\");\n\tviewer_1746777837457296.setStyle({\"stick\": {}, \"sphere\": {\"radius\": 0.36}});\n\tviewer_1746777837457296.zoomTo();\nviewer_1746777837457296.render();\n})\n});\n</script>",
      "text/html": [
       "<div id=\"3dmolviewer_1746777837457296\"  style=\"position: relative; width: 576px; height: 480px;\">\n",
       "        <p id=\"3dmolwarning_1746777837457296\" style=\"background-color:#ffcccc;color:black\">3Dmol.js failed to load for some reason.  Please check your browser console for error messages.<br></p>\n",
       "        </div>\n",
       "<script>\n",
       "\n",
       "var loadScriptAsync = function(uri){\n",
       "  return new Promise((resolve, reject) => {\n",
       "    //this is to ignore the existence of requirejs amd\n",
       "    var savedexports, savedmodule;\n",
       "    if (typeof exports !== 'undefined') savedexports = exports;\n",
       "    else exports = {}\n",
       "    if (typeof module !== 'undefined') savedmodule = module;\n",
       "    else module = {}\n",
       "\n",
       "    var tag = document.createElement('script');\n",
       "    tag.src = uri;\n",
       "    tag.async = true;\n",
       "    tag.onload = () => {\n",
       "        exports = savedexports;\n",
       "        module = savedmodule;\n",
       "        resolve();\n",
       "    };\n",
       "  var firstScriptTag = document.getElementsByTagName('script')[0];\n",
       "  firstScriptTag.parentNode.insertBefore(tag, firstScriptTag);\n",
       "});\n",
       "};\n",
       "\n",
       "if(typeof $3Dmolpromise === 'undefined') {\n",
       "$3Dmolpromise = null;\n",
       "  $3Dmolpromise = loadScriptAsync('https://cdnjs.cloudflare.com/ajax/libs/3Dmol/2.4.0/3Dmol-min.js');\n",
       "}\n",
       "\n",
       "var viewer_1746777837457296 = null;\n",
       "var warn = document.getElementById(\"3dmolwarning_1746777837457296\");\n",
       "if(warn) {\n",
       "    warn.parentNode.removeChild(warn);\n",
       "}\n",
       "$3Dmolpromise.then(function() {\n",
       "viewer_1746777837457296 = $3Dmol.createViewer(document.getElementById(\"3dmolviewer_1746777837457296\"),{backgroundColor:\"white\"});\n",
       "$3Dmol.download(\"1024\", viewer_1746777837457296, {}, function() {\n",
       "viewer_1746777837457296.zoomTo();\n",
       "\tviewer_1746777837457296.addModel(\"14\\n\\nO 2.21498 -0.13552205 0.17981718\\nC 1.1761024 0.06764175 -0.7415772\\nC -0.17720129 -0.1251232 -0.06562364\\nC -0.46579868 -1.3743482 0.45726508\\nN -0.25835493 0.7530547 1.0944347\\nC -1.3341054 0.84239995 -0.84574354\\nO -2.4021823 0.6871197 -1.3024552\\nH 1.9411134 0.34722266 0.9783273\\nH 1.2066867 1.0815958 -1.170764\\nH 1.3023409 -0.65283334 -1.5560151\\nH 0.16792169 -2.241956 0.28234816\\nH -1.36076 -1.527262 1.0542859\\nH -1.1368358 0.59730196 1.5973896\\nH -0.87390614 1.6807085 0.03831083\\n\",\"xyz\");\n",
       "\tviewer_1746777837457296.setStyle({\"stick\": {}, \"sphere\": {\"radius\": 0.36}});\n",
       "\tviewer_1746777837457296.zoomTo();\n",
       "viewer_1746777837457296.render();\n",
       "})\n",
       "});\n",
       "</script>"
      ]
     },
     "metadata": {},
     "output_type": "display_data"
    },
    {
     "data": {
      "text/plain": [
       "<py3Dmol.view at 0x7f4eb43bc640>"
      ]
     },
     "execution_count": 5,
     "metadata": {},
     "output_type": "execute_result"
    }
   ],
   "source": [
    "# Read the content of the .xyz file\n",
    "file_path = \"demo/example-3/ground_truth/sample_0_ts.xyz\"\n",
    "with open(file_path, 'r') as f:\n",
    "    xyz = f.read()\n",
    "\n",
    "view = draw_in_3dmol(xyz, \"xyz\")\n",
    "view  # Display Molecules"
   ]
  }
 ],
 "metadata": {
  "kernelspec": {
   "display_name": "oa_reactdiff",
   "language": "python",
   "name": "python3"
  },
  "language_info": {
   "codemirror_mode": {
    "name": "ipython",
    "version": 3
   },
   "file_extension": ".py",
   "mimetype": "text/x-python",
   "name": "python",
   "nbconvert_exporter": "python",
   "pygments_lexer": "ipython3",
   "version": "3.10.4"
  }
 },
 "nbformat": 4,
 "nbformat_minor": 2
}
